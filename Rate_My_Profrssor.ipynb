{
 "cells": [
  {
   "cell_type": "code",
   "execution_count": 1,
   "id": "2207308e",
   "metadata": {},
   "outputs": [],
   "source": [
    "# importing library\n",
    "import requests\n",
    "import time\n",
    "from bs4 import BeautifulSoup\n",
    "import json\n",
    "import pandas as pd\n",
    "from pymongo import MongoClient\n",
    "from selenium import webdriver\n",
    "from selenium.webdriver.common.keys import Keys\n",
    "# PATH = \"C:\\Program Files (x86)\\chromedriver.exe\"\n",
    "import time"
   ]
  },
  {
   "cell_type": "code",
   "execution_count": 2,
   "id": "a0cd1951",
   "metadata": {},
   "outputs": [],
   "source": [
    "# driver = webdriver.Chrome(PATH)"
   ]
  },
  {
   "cell_type": "code",
   "execution_count": 3,
   "id": "c9c73d46",
   "metadata": {},
   "outputs": [],
   "source": [
    "# Remove Character from the text\n",
    "def Remove_Character(Text, characters):\n",
    "    val = Text.get_text(separator=' ').rstrip().split()\n",
    "    val = ' '.join(val)\n",
    "    for c in characters:\n",
    "        val = ''.join(val.split(c))\n",
    "    return val\n",
    "\n",
    "# Get the position value\n",
    "def Get_Position_Value(Text_Value, value_address):\n",
    "    val = Text_Value.get_text(separator=' ').rstrip().split()\n",
    "    return(val[value_address])\n",
    "\n",
    "# Join the array with given tag\n",
    "def Join_Value_With(value, join_value):\n",
    "    val = value.get_text(separator=' ').rstrip().split()\n",
    "    val = join_value.join(val)\n",
    "    return(val)\n",
    "\n",
    "# To Reamove Unusal Spaces\n",
    "def Remove_Unusal_Spaces(value):\n",
    "    try:\n",
    "        val = value.get_text(separator=' ').rstrip().split()\n",
    "        val = ' '.join(val)\n",
    "    except:\n",
    "        val = ''\n",
    "    return(val)\n",
    "\n",
    "# Make the attributes naming \n",
    "def Name_Attribute(attribute):\n",
    "    \"\"\"remove the unusual spaces and convert the sentence into array\"\"\"\n",
    "    attr = attribute.get_text(separator=' ').rstrip().split()\n",
    "    attr = [x.casefold() for x in attr] # capitalize the first letter of the word\n",
    "    attr = '_'.join(attr) # Join each word with \"_\"\n",
    "    return(attr)\n",
    "\n",
    "def Get_href(anchor):\n",
    "    \"\"\"scrap the anchor tag href\"\"\"\n",
    "    href =  anchor.find('a', href=True)['href']\n",
    "    return href"
   ]
  },
  {
   "cell_type": "code",
   "execution_count": 4,
   "id": "eb995dee",
   "metadata": {},
   "outputs": [],
   "source": [
    "def professor_page_scrapper(page):\n",
    "    soup = BeautifulSoup(page.content,'html.parser')\n",
    "    print(soup)\n",
    "    return None"
   ]
  },
  {
   "cell_type": "code",
   "execution_count": 5,
   "id": "8bd6e765",
   "metadata": {},
   "outputs": [],
   "source": [
    "def main_page_scrapper(page):\n",
    "    main_page_data = {}\n",
    "    # school info\n",
    "    soup = BeautifulSoup(page.content,'html.parser')\n",
    "    main_page_data[\"university_name\"] = Remove_Unusal_Spaces(soup.find('div', class_=\"result-text\"))\n",
    "    school_rating_section = soup.find('div', class_=\"right-breakdown school-averages\")\n",
    "    ins_over_rating = school_rating_section.find('div', class_='overall-rating')\n",
    "    o_r = Remove_Unusal_Spaces(ins_over_rating.find('span'))\n",
    "    main_page_data['over_rating'] = float(o_r) if o_r != \"\" else 0\n",
    "    quality_breakdown = school_rating_section.find_all('div', class_='rating')\n",
    "    rating_breakdown = []\n",
    "    for rat in quality_breakdown:\n",
    "        label = Remove_Unusal_Spaces(rat.find('span', class_='label'))\n",
    "        score = Remove_Unusal_Spaces(rat.find('span', class_='score'))\n",
    "        rating_breakdown.append({\n",
    "            'label': label,\n",
    "            'rating': float(score) if score != '' else 0\n",
    "        })\n",
    "    main_page_data[\"institution_rating_breakdown\"] = rating_breakdown\n",
    "    \n",
    "    # Orifessir Rating info\n",
    "    professor_rating = soup.find('div', class_=\"left-breakdown top-professors\")\n",
    "    pro_over_rating = professor_rating.find('div', class_='overall-rating')\n",
    "    p_o_r = Remove_Unusal_Spaces(pro_over_rating.find(\"span\"))\n",
    "    main_page_data['professor_overall_rating'] = float(p_o_r) if p_o_r != \"\" else 0\n",
    "    professor_ratings = []\n",
    "    pro_ratings = professor_rating.find_all('li')\n",
    "    for p_ratings in pro_ratings:\n",
    "        professor_name = p_ratings.find('div', class_='professor-name').text\n",
    "        pro_name = professor_name.split(',')\n",
    "        p_name = pro_name[1].rstrip() + \" \" + pro_name[0].rstrip()\n",
    "        review = p_ratings.find('div', class_='professor-rating-count').text.split()\n",
    "        pro_rat = Remove_Unusal_Spaces(p_ratings.find('span', class_=\"professor-rating\"))\n",
    "        professor_ratings.append({\n",
    "            'professor_name': p_name,\n",
    "            'reviews': int(review[0]),\n",
    "            'rating': float(pro_rat) if pro_rat != \"\" else 0\n",
    "        })\n",
    "    main_page_data['professor_ratings'] = professor_ratings\n",
    "    return main_page_data\n"
   ]
  },
  {
   "cell_type": "code",
   "execution_count": 6,
   "id": "c8dbf581",
   "metadata": {},
   "outputs": [
    {
     "name": "stdout",
     "output_type": "stream",
     "text": [
      "1\n",
      "Connection Status Code for main page:  200\n",
      "Information Retereaved: True\n",
      "2\n",
      "Connection Status Code for main page:  200\n",
      "Information Retereaved: True\n",
      "3\n",
      "Connection Status Code for main page:  200\n",
      "Information Retereaved: True\n",
      "4\n",
      "Connection Status Code for main page:  200\n",
      "Information Retereaved: True\n",
      "5\n",
      "Connection Status Code for main page:  200\n",
      "Information Retereaved: True\n",
      "6\n",
      "Connection Status Code for main page:  200\n",
      "Information Retereaved: True\n",
      "7\n",
      "Connection Status Code for main page:  200\n",
      "Information Retereaved: True\n",
      "8\n",
      "Connection Status Code for main page:  200\n",
      "Information Retereaved: True\n",
      "9\n",
      "Connection Status Code for main page:  200\n",
      "Information Retereaved: True\n",
      "10\n",
      "Connection Status Code for main page:  200\n",
      "Information Retereaved: True\n"
     ]
    }
   ],
   "source": [
    "main_url = \"https://www.ratemyprofessors.com/campusRatings.jsp?sid=\"\n",
    "# prof_url = \"https://www.ratemyprofessors.com/search/teachers?query=*&sid=\"\n",
    "whole_data = []\n",
    "# for sid in range(6049):\n",
    "for sid in range(10):\n",
    "    main_req_url = main_url + str(sid+1)\n",
    "#     prof_req_url = prof_url + str(sid+1)\n",
    "    main_page = requests.get(main_req_url, timeout=100, headers={'User-Agent': 'Mozilla/5.0'})\n",
    "#     prof_page = requests.get(prof_req_url, timeout=100, headers={'User-Agent': 'Mozilla/5.0'})\n",
    "    print(sid + 1)\n",
    "    print(\"Connection Status Code for main page: \", main_page.status_code)\n",
    "    print(\"Information Retereaved:\", main_page.status_code == requests.codes.ok)\n",
    "#     print(\"Connection Status Code for professor page: \", prof_page.status_code)\n",
    "#     print(\"Information Retereaved:\", prof_page.status_code == requests.codes.ok)\n",
    "    ins_data = main_page_scrapper(main_page)\n",
    "    whole_data.append(ins_data)\n",
    "#     professor_data = professor_page_scrapper(prof_page)"
   ]
  },
  {
   "cell_type": "code",
   "execution_count": 7,
   "id": "cd1ea893",
   "metadata": {},
   "outputs": [
    {
     "name": "stdout",
     "output_type": "stream",
     "text": [
      "[{'university_name': 'Abilene Christian University', 'over_rating': 3.7, 'institution_rating_breakdown': [{'label': 'REPUTATION', 'rating': 4.0}, {'label': 'LOCATION', 'rating': 3.1}, {'label': 'INTERNET', 'rating': 3.6}, {'label': 'FOOD', 'rating': 3.1}, {'label': 'OPPORTUNITY', 'rating': 3.8}, {'label': 'FACILITIES', 'rating': 4.0}, {'label': 'CLUBS', 'rating': 3.5}, {'label': 'SOCIAL', 'rating': 3.4}, {'label': 'HAPPINESS', 'rating': 4.0}, {'label': 'SAFETY', 'rating': 4.3}], 'professor_overall_rating': 3.76, 'professor_ratings': [{'professor_name': ' Richard Beck', 'reviews': 67, 'rating': 5.0}, {'professor_name': ' David Isbell', 'reviews': 28, 'rating': 5.0}, {'professor_name': ' Rodney Chisholm', 'reviews': 23, 'rating': 5.0}]}, {'university_name': 'Abraham Baldwin Agricultural College', 'over_rating': 3.6, 'institution_rating_breakdown': [{'label': 'REPUTATION', 'rating': 3.6}, {'label': 'LOCATION', 'rating': 3.6}, {'label': 'INTERNET', 'rating': 3.0}, {'label': 'FOOD', 'rating': 3.1}, {'label': 'OPPORTUNITY', 'rating': 3.5}, {'label': 'FACILITIES', 'rating': 3.8}, {'label': 'CLUBS', 'rating': 3.5}, {'label': 'SOCIAL', 'rating': 3.3}, {'label': 'HAPPINESS', 'rating': 3.9}, {'label': 'SAFETY', 'rating': 4.4}], 'professor_overall_rating': 3.88, 'professor_ratings': [{'professor_name': ' Donna Campbell', 'reviews': 42, 'rating': 5.0}, {'professor_name': ' Kennon Deal', 'reviews': 16, 'rating': 5.0}, {'professor_name': ' Lisa Lishman', 'reviews': 13, 'rating': 5.0}]}, {'university_name': 'Academy of Art University', 'over_rating': 3.2, 'institution_rating_breakdown': [{'label': 'REPUTATION', 'rating': 3.3}, {'label': 'LOCATION', 'rating': 3.7}, {'label': 'INTERNET', 'rating': 3.5}, {'label': 'FOOD', 'rating': 2.8}, {'label': 'OPPORTUNITY', 'rating': 3.2}, {'label': 'FACILITIES', 'rating': 3.2}, {'label': 'CLUBS', 'rating': 2.9}, {'label': 'SOCIAL', 'rating': 2.9}, {'label': 'HAPPINESS', 'rating': 3.3}, {'label': 'SAFETY', 'rating': 3.1}], 'professor_overall_rating': 3.84, 'professor_ratings': [{'professor_name': ' Frank Pietronigro', 'reviews': 58, 'rating': 5.0}, {'professor_name': ' Sandy Zhang', 'reviews': 11, 'rating': 5.0}, {'professor_name': ' Leandro Ng', 'reviews': 12, 'rating': 4.9}]}, {'university_name': 'Bryn Athyn College', 'over_rating': 3.4, 'institution_rating_breakdown': [{'label': 'REPUTATION', 'rating': 3.3}, {'label': 'LOCATION', 'rating': 3.6}, {'label': 'INTERNET', 'rating': 2.9}, {'label': 'FOOD', 'rating': 2.8}, {'label': 'OPPORTUNITY', 'rating': 3.1}, {'label': 'FACILITIES', 'rating': 3.8}, {'label': 'CLUBS', 'rating': 2.8}, {'label': 'SOCIAL', 'rating': 2.8}, {'label': 'HAPPINESS', 'rating': 3.6}, {'label': 'SAFETY', 'rating': 4.8}], 'professor_overall_rating': 4.04, 'professor_ratings': [{'professor_name': ' Erica Hyatt', 'reviews': 1, 'rating': 5.0}, {'professor_name': ' Michael Seigafuse', 'reviews': 1, 'rating': 5.0}, {'professor_name': ' Fredrik Bryntesson', 'reviews': 10, 'rating': 4.5}]}, {'university_name': 'Adams State University', 'over_rating': 3.3, 'institution_rating_breakdown': [{'label': 'REPUTATION', 'rating': 3.3}, {'label': 'LOCATION', 'rating': 3.2}, {'label': 'INTERNET', 'rating': 3.2}, {'label': 'FOOD', 'rating': 2.7}, {'label': 'OPPORTUNITY', 'rating': 3.2}, {'label': 'FACILITIES', 'rating': 3.6}, {'label': 'CLUBS', 'rating': 3.1}, {'label': 'SOCIAL', 'rating': 3.1}, {'label': 'HAPPINESS', 'rating': 3.9}, {'label': 'SAFETY', 'rating': 3.7}], 'professor_overall_rating': 4.08, 'professor_ratings': [{'professor_name': ' Blaine Reilly', 'reviews': 12, 'rating': 5.0}, {'professor_name': ' Coreen Haym', 'reviews': 14, 'rating': 4.5}, {'professor_name': ' Jared Thiemann', 'reviews': 11, 'rating': 3.9}]}, {'university_name': 'Adelphi University', 'over_rating': 3.6, 'institution_rating_breakdown': [{'label': 'REPUTATION', 'rating': 3.6}, {'label': 'LOCATION', 'rating': 3.9}, {'label': 'INTERNET', 'rating': 3.4}, {'label': 'FOOD', 'rating': 2.7}, {'label': 'OPPORTUNITY', 'rating': 3.6}, {'label': 'FACILITIES', 'rating': 3.9}, {'label': 'CLUBS', 'rating': 3.5}, {'label': 'SOCIAL', 'rating': 3.1}, {'label': 'HAPPINESS', 'rating': 3.7}, {'label': 'SAFETY', 'rating': 4.3}], 'professor_overall_rating': 3.77, 'professor_ratings': [{'professor_name': ' Tracy Stopler', 'reviews': 286, 'rating': 5.2}, {'professor_name': ' Dennis Cowan', 'reviews': 109, 'rating': 5.0}, {'professor_name': ' Anna Akerman', 'reviews': 86, 'rating': 5.0}]}, {'university_name': 'Agnes Scott College', 'over_rating': 3.5, 'institution_rating_breakdown': [{'label': 'REPUTATION', 'rating': 4.2}, {'label': 'LOCATION', 'rating': 4.3}, {'label': 'INTERNET', 'rating': 2.6}, {'label': 'FOOD', 'rating': 2.7}, {'label': 'OPPORTUNITY', 'rating': 3.8}, {'label': 'FACILITIES', 'rating': 3.7}, {'label': 'CLUBS', 'rating': 3.4}, {'label': 'SOCIAL', 'rating': 3.2}, {'label': 'HAPPINESS', 'rating': 3.9}, {'label': 'SAFETY', 'rating': 3.5}], 'professor_overall_rating': 3.91, 'professor_ratings': [{'professor_name': ' Lilia Harvey', 'reviews': 11, 'rating': 4.8}, {'professor_name': ' Leslie Coia', 'reviews': 11, 'rating': 4.8}, {'professor_name': ' Mary Cain', 'reviews': 22, 'rating': 4.7}]}, {'university_name': 'Air Force Institute of Technology', 'over_rating': 2.8, 'institution_rating_breakdown': [{'label': 'REPUTATION', 'rating': 4.0}, {'label': 'LOCATION', 'rating': 3.0}, {'label': 'INTERNET', 'rating': 2.0}, {'label': 'FOOD', 'rating': 2.5}, {'label': 'OPPORTUNITY', 'rating': 4.0}, {'label': 'FACILITIES', 'rating': 2.5}, {'label': 'CLUBS', 'rating': 1.5}, {'label': 'SOCIAL', 'rating': 1.5}, {'label': 'HAPPINESS', 'rating': 2.0}, {'label': 'SAFETY', 'rating': 5.0}], 'professor_overall_rating': 3.79, 'professor_ratings': [{'professor_name': ' Tony White', 'reviews': 1, 'rating': 5.0}, {'professor_name': ' Summer Bartczack', 'reviews': 1, 'rating': 5.0}, {'professor_name': ' Barry Mullins', 'reviews': 1, 'rating': 5.0}]}, {'university_name': 'Air University', 'over_rating': 4.4, 'institution_rating_breakdown': [{'label': 'REPUTATION', 'rating': 5.0}, {'label': 'LOCATION', 'rating': 5.0}, {'label': 'INTERNET', 'rating': 4.0}, {'label': 'FOOD', 'rating': 4.0}, {'label': 'OPPORTUNITY', 'rating': 5.0}, {'label': 'FACILITIES', 'rating': 5.0}, {'label': 'CLUBS', 'rating': 3.0}, {'label': 'SOCIAL', 'rating': 4.0}, {'label': 'HAPPINESS', 'rating': 5.0}], 'professor_overall_rating': 4.07, 'professor_ratings': [{'professor_name': ' Greg Power', 'reviews': 2, 'rating': 4.2}, {'professor_name': ' Mike Mosier', 'reviews': 1, 'rating': 4.0}, {'professor_name': ' Ali Baba', 'reviews': 0, 'rating': 0.0}]}, {'university_name': 'Alabama A&M University', 'over_rating': 3.3, 'institution_rating_breakdown': [{'label': 'REPUTATION', 'rating': 3.3}, {'label': 'LOCATION', 'rating': 3.2}, {'label': 'INTERNET', 'rating': 2.6}, {'label': 'FOOD', 'rating': 2.6}, {'label': 'OPPORTUNITY', 'rating': 3.7}, {'label': 'FACILITIES', 'rating': 3.2}, {'label': 'CLUBS', 'rating': 3.6}, {'label': 'SOCIAL', 'rating': 3.6}, {'label': 'HAPPINESS', 'rating': 3.4}, {'label': 'SAFETY', 'rating': 3.4}], 'professor_overall_rating': 3.69, 'professor_ratings': [{'professor_name': ' Stephanie Johnson', 'reviews': 11, 'rating': 5.0}, {'professor_name': ' Sampson Hopkinson', 'reviews': 22, 'rating': 4.9}, {'professor_name': ' Rajpal Sirohi', 'reviews': 10, 'rating': 4.9}]}]\n"
     ]
    }
   ],
   "source": [
    "print(whole_data)"
   ]
  }
 ],
 "metadata": {
  "kernelspec": {
   "display_name": "Python 3 (ipykernel)",
   "language": "python",
   "name": "python3"
  },
  "language_info": {
   "codemirror_mode": {
    "name": "ipython",
    "version": 3
   },
   "file_extension": ".py",
   "mimetype": "text/x-python",
   "name": "python",
   "nbconvert_exporter": "python",
   "pygments_lexer": "ipython3",
   "version": "3.9.12"
  }
 },
 "nbformat": 4,
 "nbformat_minor": 5
}
